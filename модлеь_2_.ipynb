{
 "cells": [
  {
   "cell_type": "markdown",
   "id": "ad4030a1",
   "metadata": {},
   "source": [
    "LogisticRegression используем эту модель, чтобы попробовать улучшить вероятность предсказания"
   ]
  },
  {
   "cell_type": "code",
   "execution_count": 1,
   "id": "2aaa1ff1",
   "metadata": {},
   "outputs": [
    {
     "name": "stdout",
     "output_type": "stream",
     "text": [
      "Accuracy: 0.82\n",
      "Classification Report:\n",
      "              precision    recall  f1-score   support\n",
      "\n",
      "           1       0.79      0.61      0.69        49\n",
      "           3       0.84      0.95      0.89       191\n",
      "           4       0.81      0.86      0.84       186\n",
      "           5       0.82      0.25      0.38        36\n",
      "\n",
      "    accuracy                           0.82       462\n",
      "   macro avg       0.82      0.67      0.70       462\n",
      "weighted avg       0.82      0.82      0.81       462\n",
      "\n"
     ]
    },
    {
     "name": "stderr",
     "output_type": "stream",
     "text": [
      "C:\\Users\\user\\AppData\\Local\\Packages\\PythonSoftwareFoundation.Python.3.12_qbz5n2kfra8p0\\LocalCache\\local-packages\\Python312\\site-packages\\sklearn\\linear_model\\_logistic.py:1247: FutureWarning: 'multi_class' was deprecated in version 1.5 and will be removed in 1.7. From then on, it will always use 'multinomial'. Leave it to its default value to avoid this warning.\n",
      "  warnings.warn(\n"
     ]
    },
    {
     "data": {
      "text/plain": [
       "['vectorizer.pkl']"
      ]
     },
     "execution_count": 1,
     "metadata": {},
     "output_type": "execute_result"
    }
   ],
   "source": [
    "import pandas as pd\n",
    "from sklearn.model_selection import train_test_split\n",
    "from sklearn.linear_model import LogisticRegression  # <-- Заменили модель\n",
    "from sklearn.metrics import classification_report, accuracy_score\n",
    "from sklearn.feature_extraction.text import CountVectorizer\n",
    "import joblib\n",
    "\n",
    "# Загрузка данных\n",
    "file_path = r'C:\\Users\\user\\Desktop\\Интенсив_4\\разметка_с_разметкой_обновленный.csv'\n",
    "data = pd.read_csv(file_path)\n",
    "\n",
    "# Преобразуем рейтинги в классы\n",
    "rating_mapping = {\n",
    "    0: 1,   # ужасный отзыв - 1 звезда\n",
    "    2: 3,   # средний отзыв - 3 звезды\n",
    "    3: 3,   # средний отзыв - 3 звезды\n",
    "    5: 4,   # хороший отзыв - 4 звезды\n",
    "    8: 5,   # прекрасный отзыв - 5 звезд\n",
    "    11: 5   # прекрасный отзыв - 5 звезд\n",
    "}\n",
    "\n",
    "data['rating_class'] = data['rating'].map(rating_mapping)\n",
    "\n",
    "# Разделение данных\n",
    "X = data['comment']\n",
    "y = data['rating_class']\n",
    "X_train, X_test, y_train, y_test = train_test_split(X, y, test_size=0.2, random_state=42)\n",
    "\n",
    "# Векторизация текста\n",
    "vectorizer = CountVectorizer()\n",
    "X_train_vectorized = vectorizer.fit_transform(X_train)\n",
    "X_test_vectorized = vectorizer.transform(X_test)\n",
    "\n",
    "# Создание и обучение модели LogisticRegression\n",
    "model = LogisticRegression(\n",
    "    random_state=42,\n",
    "    max_iter=1000,  # Увеличиваем число итераций для сходимости\n",
    "    multi_class='multinomial',  # Для многоклассовой классификации\n",
    "    solver='lbfgs'  # Алгоритм оптимизации\n",
    ")\n",
    "model.fit(X_train_vectorized, y_train)\n",
    "\n",
    "# Предсказание и оценка\n",
    "y_pred = model.predict(X_test_vectorized)\n",
    "accuracy = accuracy_score(y_test, y_pred)\n",
    "report = classification_report(y_test, y_pred)\n",
    "\n",
    "print(f'Accuracy: {accuracy:.2f}')\n",
    "print('Classification Report:')\n",
    "print(report)\n",
    "\n",
    "# Сохранение модели\n",
    "joblib.dump(model, 'logistic_regression_rating_classifier.pkl')\n",
    "joblib.dump(vectorizer, 'vectorizer.pkl')"
   ]
  }
 ],
 "metadata": {
  "kernelspec": {
   "display_name": "Python 3",
   "language": "python",
   "name": "python3"
  },
  "language_info": {
   "codemirror_mode": {
    "name": "ipython",
    "version": 3
   },
   "file_extension": ".py",
   "mimetype": "text/x-python",
   "name": "python",
   "nbconvert_exporter": "python",
   "pygments_lexer": "ipython3",
   "version": "3.12.10"
  }
 },
 "nbformat": 4,
 "nbformat_minor": 5
}
