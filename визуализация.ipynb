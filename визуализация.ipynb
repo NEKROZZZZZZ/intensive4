{
 "cells": [
  {
   "cell_type": "markdown",
   "id": "6294eca2",
   "metadata": {},
   "source": [
    "вводим коментарий с клавиатуры и модель его оцениевает по 5 бальной шкале "
   ]
  },
  {
   "cell_type": "code",
   "execution_count": null,
   "id": "81bf83f6",
   "metadata": {},
   "outputs": [
    {
     "name": "stdout",
     "output_type": "stream",
     "text": [
      "Добро пожаловать в систему оценки комментариев!\n",
      "Ваш комментарий оценен как: 3 звезды\n",
      "Ваш комментарий оценен как: 3 звезды\n",
      "Ваш комментарий оценен как: 4 звезды\n"
     ]
    }
   ],
   "source": [
    "import joblib\n",
    "\n",
    "# Загрузка модели и векторизатора\n",
    "model = joblib.load('rating_classifier_model.pkl')\n",
    "vectorizer = joblib.load('vectorizer.pkl')\n",
    "\n",
    "def predict_rating(comment):\n",
    "    # Векторизация комментария\n",
    "    comment_vectorized = vectorizer.transform([comment])\n",
    "    \n",
    "    # Предсказание рейтинга\n",
    "    prediction = model.predict(comment_vectorized)\n",
    "    \n",
    "    return prediction[0]\n",
    "\n",
    "def main():\n",
    "    print(\"Добро пожаловать в систему оценки комментариев!\")\n",
    "    while True:\n",
    "        # Ввод комментария\n",
    "        comment = input(\"Введите ваш комментарий (или 'exit' для выхода): \")\n",
    "        \n",
    "        if comment.lower() == 'exit':\n",
    "            print(\"Выход из программы.\")\n",
    "            break\n",
    "        \n",
    "        # Получение оценки\n",
    "        rating = predict_rating(comment)\n",
    "        print(f\"Ваш комментарий оценен как: {rating} звезды\")\n",
    "\n",
    "if __name__ == \"__main__\":\n",
    "    main()\n"
   ]
  }
 ],
 "metadata": {
  "kernelspec": {
   "display_name": "Python 3",
   "language": "python",
   "name": "python3"
  },
  "language_info": {
   "codemirror_mode": {
    "name": "ipython",
    "version": 3
   },
   "file_extension": ".py",
   "mimetype": "text/x-python",
   "name": "python",
   "nbconvert_exporter": "python",
   "pygments_lexer": "ipython3",
   "version": "3.12.10"
  }
 },
 "nbformat": 4,
 "nbformat_minor": 5
}
