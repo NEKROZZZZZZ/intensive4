{
 "cells": [
  {
   "cell_type": "markdown",
   "id": "ecb1cb72",
   "metadata": {},
   "source": [
    "RandomForestClassifier используем эту модельку"
   ]
  },
  {
   "cell_type": "code",
   "execution_count": null,
   "id": "7e3fb730",
   "metadata": {},
   "outputs": [],
   "source": [
    "import pandas as pd\n",
    "from sklearn.model_selection import train_test_split\n",
    "from sklearn.ensemble import RandomForestClassifier\n",
    "from sklearn.metrics import classification_report, accuracy_score\n",
    "from sklearn.feature_extraction.text import CountVectorizer\n",
    "\n",
    "# Загрузка данных\n",
    "file_path = r'C:\\Users\\user\\Desktop\\Интенсив_4\\разметка_с_разметкой_обновленный.csv'\n",
    "data = pd.read_csv(file_path)\n",
    "\n",
    "# Определение целевой переменной и признаков\n",
    "# Преобразуем рейтинги в классы\n",
    "rating_mapping = {\n",
    "    0: 1,   # ужасный отзыв - 1 звезда\n",
    "    2: 3,   # средний отзыв - 3 звезды\n",
    "    3: 3,   # средний отзыв - 3 звезды\n",
    "    5: 4,   # хороший отзыв - 4 звезды\n",
    "    8: 5,   # прекрасный отзыв - 5 звезд\n",
    "    11: 5   # прекрасный отзыв - 5 звезд\n",
    "}\n",
    "\n",
    "data['rating_class'] = data['rating'].map(rating_mapping)\n",
    "\n",
    "# Разделение данных на обучающую и тестовую выборки\n",
    "X = data['comment']  # Признаки\n",
    "y = data['rating_class']  # Целевая переменная\n",
    "\n",
    "X_train, X_test, y_train, y_test = train_test_split(X, y, test_size=0.2, random_state=42)\n",
    "\n",
    "# Преобразование текстовых данных в числовые с помощью CountVectorizer\n",
    "vectorizer = CountVectorizer()\n",
    "X_train_vectorized = vectorizer.fit_transform(X_train)\n",
    "X_test_vectorized = vectorizer.transform(X_test)\n",
    "\n",
    "# Создание и обучение модели\n",
    "model = RandomForestClassifier(random_state=42)\n",
    "model.fit(X_train_vectorized, y_train)\n",
    "\n",
    "# Предсказание на тестовой выборке\n",
    "y_pred = model.predict(X_test_vectorized)\n",
    "\n",
    "# Оценка модели\n",
    "accuracy = accuracy_score(y_test, y_pred)\n",
    "report = classification_report(y_test, y_pred)\n",
    "\n",
    "print(f'Accuracy: {accuracy:.2f}')\n",
    "print('Classification Report:')\n",
    "print(report)\n",
    "\n",
    "# Сохранение модели (если нужно)\n",
    "import joblib\n",
    "joblib.dump(model, 'rating_classifier_model.pkl')\n",
    "joblib.dump(vectorizer, 'vectorizer.pkl')\n"
   ]
  }
 ],
 "metadata": {
  "language_info": {
   "name": "python"
  }
 },
 "nbformat": 4,
 "nbformat_minor": 5
}
